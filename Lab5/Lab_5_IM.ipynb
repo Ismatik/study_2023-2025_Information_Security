{
 "cells": [
  {
   "cell_type": "markdown",
   "metadata": {},
   "source": [
    "<h1>Тест Ферма</h1>"
   ]
  },
  {
   "cell_type": "code",
   "execution_count": 4,
   "metadata": {},
   "outputs": [
    {
     "data": {
      "text/plain": [
       "'Number is not prime'"
      ]
     },
     "execution_count": 4,
     "metadata": {},
     "output_type": "execute_result"
    }
   ],
   "source": [
    "import random\n",
    "import math\n",
    "\n",
    "def test_ferm(n):\n",
    "    if n == 1:\n",
    "        return \"Number is prime\"\n",
    "    number = random.randint(2,  n - 2)\n",
    "    r = math.pow(number, n - 1) % n \n",
    "    if r == 1:\n",
    "        return \"Number is prime\"\n",
    "    return \"Number is not prime\"\n",
    "\n",
    "test_ferm(9)"
   ]
  },
  {
   "cell_type": "markdown",
   "metadata": {},
   "source": [
    "<h1>Символ Якоби</h1>"
   ]
  },
  {
   "cell_type": "code",
   "execution_count": 16,
   "metadata": {},
   "outputs": [
    {
     "data": {
      "text/plain": [
       "-1"
      ]
     },
     "execution_count": 16,
     "metadata": {},
     "output_type": "execute_result"
    }
   ],
   "source": [
    "def yakobi_symbol(a, n):\n",
    "    if n <= 0 or n % 2 == 0:\n",
    "        return \"Error: n должно быть положительным нечетным числом\"\n",
    "    a = a % n\n",
    "    g = 1\n",
    "    while a != 0:\n",
    "        while a % 2 == 0:\n",
    "            a /= 2\n",
    "            r = n % 8\n",
    "            if r == 3 or r == 5:\n",
    "                g = -g\n",
    "        a, n = n, a\n",
    "        if a % 4 == n % 4 == 3:\n",
    "            g = -g\n",
    "        a %= n\n",
    "    if n == 1:\n",
    "        return g\n",
    "    else:\n",
    "        return 0\n",
    "\n",
    "# Пример использования\n",
    "a = 7\n",
    "n = 11\n",
    "\n",
    "\n",
    "\n",
    "yakobi_symbol(a, n)"
   ]
  },
  {
   "cell_type": "markdown",
   "metadata": {},
   "source": [
    "<h1>Тест Соловея-Штрассена</h1>"
   ]
  },
  {
   "cell_type": "code",
   "execution_count": 19,
   "metadata": {},
   "outputs": [
    {
     "data": {
      "text/plain": [
       "'N is not prime'"
      ]
     },
     "execution_count": 19,
     "metadata": {},
     "output_type": "execute_result"
    }
   ],
   "source": [
    "def solovey_shtrassen(n):\n",
    "    if n < 5:\n",
    "        return \"Enter another number\"\n",
    "    a = random.randint(2, n-3)\n",
    "    r = math.pow(a , (n-1)//2) % n\n",
    "    if r != 1 and r != n- 1:\n",
    "        return \"N is not prime\"\n",
    "    s = a / n\n",
    "    if r % n == s:\n",
    "        return \"N is not prime\"\n",
    "    return \"N is most probably prime\"\n",
    "\n",
    "solovey_shtrassen(12)\n"
   ]
  },
  {
   "cell_type": "markdown",
   "metadata": {},
   "source": [
    "<h1>Тест Миллера-Рабина</h1>"
   ]
  },
  {
   "cell_type": "code",
   "execution_count": 31,
   "metadata": {},
   "outputs": [
    {
     "data": {
      "text/plain": [
       "'Number is not prime'"
      ]
     },
     "execution_count": 31,
     "metadata": {},
     "output_type": "execute_result"
    }
   ],
   "source": [
    "def miller_rabin(n):\n",
    "    if n < 5:\n",
    "        return \"Enter another number\"\n",
    "    r = n - 1\n",
    "    s = 0\n",
    "    while r % 2 == 0:\n",
    "        r =r / 2\n",
    "        s += 1\n",
    "    a = random.randint(2, n-3)\n",
    "    y = math.pow(a , r) % n\n",
    "    if y != 1 and y != n-1:\n",
    "        j = 1\n",
    "        if j <= s - 1 and y != n - 1:\n",
    "            y = math.pow(y,2) % n\n",
    "            if y == 1:\n",
    "                return \"Number is not prime\"\n",
    "            j = j + 1\n",
    "        if y != n - 1:\n",
    "            return \"Number is not prime\"\n",
    "    return \"Number is prime\"\n",
    "\n",
    "miller_rabin(8)"
   ]
  }
 ],
 "metadata": {
  "kernelspec": {
   "display_name": "Python 3",
   "language": "python",
   "name": "python3"
  },
  "language_info": {
   "codemirror_mode": {
    "name": "ipython",
    "version": 3
   },
   "file_extension": ".py",
   "mimetype": "text/x-python",
   "name": "python",
   "nbconvert_exporter": "python",
   "pygments_lexer": "ipython3",
   "version": "3.10.6"
  }
 },
 "nbformat": 4,
 "nbformat_minor": 2
}
