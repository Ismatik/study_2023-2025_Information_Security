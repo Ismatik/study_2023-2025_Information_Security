{
 "cells": [
  {
   "cell_type": "markdown",
   "metadata": {},
   "source": [
    "<h1>Реализовать Шифр Цезаря</h1>"
   ]
  },
  {
   "cell_type": "code",
   "execution_count": 18,
   "metadata": {},
   "outputs": [
    {
     "name": "stdout",
     "output_type": "stream",
     "text": [
      "['A', 'B', 'C', 'D', 'E', 'F', 'G', 'H', 'I', 'J', 'K', 'L', 'M', 'N', 'O', 'P', 'Q', 'R', 'S', 'T', 'U', 'V', 'W', 'X', 'Y', 'Z']\n",
      "['A', 'B', 'C', 'D', 'E', 'F', 'G', 'H', 'I', 'J', 'K', 'L', 'M', 'N', 'O', 'P', 'Q', 'R', 'S', 'T', 'U', 'V', 'W', 'X', 'Y', 'Z']\n"
     ]
    },
    {
     "data": {
      "text/plain": [
       "'BCC'"
      ]
     },
     "execution_count": 18,
     "metadata": {},
     "output_type": "execute_result"
    }
   ],
   "source": [
    "import string\n",
    "\n",
    "alphabet =list(string.ascii_uppercase)\n",
    "# print(alphabet)\n",
    "\n",
    "# print(alphabet)\n",
    "def cesar_cipher(k, text):\n",
    "    ciphered_text = \"\"\n",
    "    for letter in text:\n",
    "        location = alphabet.index(letter)\n",
    "        location += k \n",
    "        ciphered_text += alphabet[location % 26]\n",
    "    return ciphered_text\n",
    "\n",
    "cesar_cipher(3, \"YZZ\")\n"
   ]
  },
  {
   "cell_type": "markdown",
   "metadata": {},
   "source": [
    "<h1>Реализовать Шифр Атбаш</h1>"
   ]
  },
  {
   "cell_type": "code",
   "execution_count": 37,
   "metadata": {},
   "outputs": [
    {
     "name": "stdout",
     "output_type": "stream",
     "text": [
      "['A', 'B', 'C', 'D', 'E', 'F', 'G', 'H', 'I', 'J', 'K', 'L', 'M', 'N', 'O', 'P', 'Q', 'R', 'S', 'T', 'U', 'V', 'W', 'X', 'Y', 'Z', ' ']\n",
      "[' ', 'Z', 'Y', 'X', 'W', 'V', 'U', 'T', 'S', 'R', 'Q', 'P', 'O', 'N', 'M', 'L', 'K', 'J', 'I', 'H', 'G', 'F', 'E', 'D', 'C', 'B', 'A']\n"
     ]
    },
    {
     "data": {
      "text/plain": [
       "'WWWAA V'"
      ]
     },
     "execution_count": 37,
     "metadata": {},
     "output_type": "execute_result"
    }
   ],
   "source": [
    "import string\n",
    "\n",
    "alphabet =list(string.ascii_uppercase)\n",
    "alphabet += [\" \"]\n",
    "\n",
    "print(alphabet)\n",
    "def atbash_cipher(text):\n",
    "    global alphabet\n",
    "    text = list(text)\n",
    "    # print(text)\n",
    "    \"\"\" AAB - >  Z \"\"\"\n",
    "    locations = []\n",
    "    for i in text:\n",
    "        locations.append(alphabet.index(i))\n",
    "    result = \"\"\n",
    "    alphabet.reverse()\n",
    "    print(alphabet)\n",
    "    for j in locations:\n",
    "        result += alphabet[j]\n",
    "    \n",
    "    return result\n",
    "\n",
    "atbash_cipher(\"EEE  AF\")"
   ]
  }
 ],
 "metadata": {
  "kernelspec": {
   "display_name": "Python 3",
   "language": "python",
   "name": "python3"
  },
  "language_info": {
   "codemirror_mode": {
    "name": "ipython",
    "version": 3
   },
   "file_extension": ".py",
   "mimetype": "text/x-python",
   "name": "python",
   "nbconvert_exporter": "python",
   "pygments_lexer": "ipython3",
   "version": "3.10.6"
  }
 },
 "nbformat": 4,
 "nbformat_minor": 2
}
