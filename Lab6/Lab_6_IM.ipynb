{
 "cells": [
  {
   "cell_type": "markdown",
   "metadata": {},
   "source": [
    "<h1>Метод Полларда</h1>"
   ]
  },
  {
   "cell_type": "code",
   "execution_count": null,
   "metadata": {},
   "outputs": [],
   "source": [
    "def pollard_method(n):\n",
    "    pass\n",
    "\n",
    "\n",
    "pollard_method(6)"
   ]
  },
  {
   "cell_type": "code",
   "execution_count": null,
   "metadata": {},
   "outputs": [],
   "source": [
    "def pollard_rho(n):\n",
    "    if n % 2 == 0:\n",
    "        return 2\n",
    "    x = 2\n",
    "    y = 2\n",
    "    d = 1\n",
    "    f = lambda x: (x**2 + 1) % n\n",
    "    while d == 1:\n",
    "        x = f(x)\n",
    "        y = f(f(y))\n",
    "        d = gcd(abs(x - y), n)\n",
    "    if d == n:\n",
    "        return None\n",
    "    else:\n",
    "        return d\n",
    "\n",
    "def gcd(a, b):\n",
    "    while b:\n",
    "        a, b = b, a % b\n",
    "    return a\n",
    "\n",
    "# Пример использования\n",
    "n = 8051\n",
    "factor = pollard_rho(n)\n",
    "print(factor) "
   ]
  }
 ],
 "metadata": {
  "language_info": {
   "name": "python"
  }
 },
 "nbformat": 4,
 "nbformat_minor": 2
}
