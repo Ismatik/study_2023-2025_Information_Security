{
 "cells": [
  {
   "cell_type": "markdown",
   "metadata": {},
   "source": [
    "<h1>Метод Полларда</h1>"
   ]
  },
  {
   "cell_type": "code",
   "execution_count": 18,
   "metadata": {},
   "outputs": [
    {
     "data": {
      "text/plain": [
       "1181"
      ]
     },
     "execution_count": 18,
     "metadata": {},
     "output_type": "execute_result"
    }
   ],
   "source": [
    "import math\n",
    "\n",
    "\n",
    "def pollard_method(n, c):\n",
    "    a = c\n",
    "    b = c\n",
    "    d = 1\n",
    "    f = lambda x: (x**2 + 5) % n\n",
    "    while d == 1:\n",
    "        a = f(a)\n",
    "        b = f(f(b))\n",
    "        d = math.gcd(abs(a - b), n)\n",
    "    \n",
    "    if d == n:\n",
    "        return \"Divisor not found\" \n",
    "    else: \n",
    "        return d   \n",
    "\n",
    "\n",
    "\n",
    "\n",
    "\n",
    "pollard_method(1359331 , 1)"
   ]
  },
  {
   "cell_type": "code",
   "execution_count": 34,
   "metadata": {},
   "outputs": [
    {
     "name": "stdout",
     "output_type": "stream",
     "text": [
      "15 = 5*3,откуда s=4, t=1 и 15=4²-1²\n",
      "15 = 15*1,откуда s=8, t=7 и 15=8²-7²\n"
     ]
    }
   ],
   "source": [
    "def factors(n):\n",
    "    k = round(math.sqrt(n))\n",
    "    number_list = []\n",
    "    for i in range(k, n+1):\n",
    "        if n % i == 0:\n",
    "            number_list.append(i)\n",
    "    \n",
    "    for j in number_list:\n",
    "        print(f\"{n} = {j}*{n//j}\",end=\",откуда \")\n",
    "        res = (j + n//j) // 2\n",
    "        res_2 = int(math.sqrt(res**2 - n))\n",
    "        print(f\"s={res}, t={res_2} и {n}={res}²-{res_2}²\")\n",
    "\n",
    "factors(15)"
   ]
  }
 ],
 "metadata": {
  "kernelspec": {
   "display_name": "Python 3",
   "language": "python",
   "name": "python3"
  },
  "language_info": {
   "codemirror_mode": {
    "name": "ipython",
    "version": 3
   },
   "file_extension": ".py",
   "mimetype": "text/x-python",
   "name": "python",
   "nbconvert_exporter": "python",
   "pygments_lexer": "ipython3",
   "version": "3.10.6"
  }
 },
 "nbformat": 4,
 "nbformat_minor": 2
}
