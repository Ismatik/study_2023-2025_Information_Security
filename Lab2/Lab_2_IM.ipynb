{
 "cells": [
  {
   "cell_type": "markdown",
   "metadata": {},
   "source": [
    "<h1>Маршрутное шифрование</h1>\n"
   ]
  },
  {
   "cell_type": "code",
   "execution_count": 10,
   "metadata": {},
   "outputs": [
    {
     "name": "stdout",
     "output_type": "stream",
     "text": [
      "['нельзя', 'недооценивать', 'соперника']\n"
     ]
    }
   ],
   "source": [
    "def path_cipher(text:str, key_word:str, n: int , m:int):\n",
    "    \"\"\"Cipher the text according to path cipher method\"\"\"\n",
    "    text = text.strip()\n",
    "    matrix = []\n",
    "    for i in range(m):\n",
    "        for \n",
    "    return text\n",
    "\n",
    "print(path_cipher(text = \"нельзя недооценивать соперника\" , key_word= \"пароль\", n = 6 , m = 5))"
   ]
  }
 ],
 "metadata": {
  "kernelspec": {
   "display_name": "Python 3",
   "language": "python",
   "name": "python3"
  },
  "language_info": {
   "codemirror_mode": {
    "name": "ipython",
    "version": 3
   },
   "file_extension": ".py",
   "mimetype": "text/x-python",
   "name": "python",
   "nbconvert_exporter": "python",
   "pygments_lexer": "ipython3",
   "version": "3.10.6"
  }
 },
 "nbformat": 4,
 "nbformat_minor": 2
}
