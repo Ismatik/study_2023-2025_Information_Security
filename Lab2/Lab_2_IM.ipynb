{
 "cells": [
  {
   "cell_type": "markdown",
   "metadata": {},
   "source": [
    "<h1>Маршрутное шифрование</h1>\n"
   ]
  },
  {
   "cell_type": "code",
   "execution_count": 1,
   "metadata": {},
   "outputs": [
    {
     "name": "stdout",
     "output_type": "stream",
     "text": [
      "еенпн\n",
      "еенпнзоата\n",
      "еенпнзоатаьовок\n",
      "еенпнзоатаьовокннеьв\n",
      "еенпнзоатаьовокннеьвлдири\n",
      "еенпнзоатаьовокннеьвлдирияцтик\n",
      "None\n"
     ]
    }
   ],
   "source": [
    "import string\n",
    "import random\n",
    "\n",
    "\n",
    "def path_cipher(text:str, key_word:str, n: int , m:int):\n",
    "    \"\"\"Cipher the text according to path cipher method\"\"\"\n",
    "    alphabet = \"абвгдеёжзийклмнопрстуфхцчшщъыьэюя\"\n",
    "    text = text.replace(\" \" , \"\")\n",
    "    matrix = []\n",
    "    counter = 0\n",
    "    result = \"\"\n",
    "    for i in range(len(text) // (m)):\n",
    "        matrix.append(text[i*n:i*n+n])\n",
    "\n",
    "        \n",
    "    while len(matrix[-1]) != n:\n",
    "        # matrix[-1] += random.choice(string.ascii_lowercase)\n",
    "        matrix[-1] += random.choice(alphabet)\n",
    "        # print(matrix[-1][-1])\n",
    "    # Adding keyword to the matrix\n",
    "    # matrix.append(key_word)\n",
    "    for char in alphabet:\n",
    "        if char in key_word:\n",
    "            position = key_word.index(char)\n",
    "            for j in matrix:\n",
    "                result += j[position]\n",
    "            print(result)\n",
    "\n",
    "\n",
    "\n",
    "\n",
    "\n",
    "print(path_cipher(text = \"нельзя недооценивать противника\" , key_word= \"пароль\", n = 6 , m = 5))"
   ]
  },
  {
   "cell_type": "code",
   "execution_count": 59,
   "metadata": {},
   "outputs": [
    {
     "name": "stdout",
     "output_type": "stream",
     "text": [
      "sad\n"
     ]
    }
   ],
   "source": [
    "text = \"abasdbasdbadsad\"\n",
    "result = \"\"\n",
    "result += text[12:18]\n",
    "print(result)"
   ]
  },
  {
   "cell_type": "markdown",
   "metadata": {},
   "source": [
    "<h1>Шифрование с помощью решёток</h1>"
   ]
  },
  {
   "cell_type": "code",
   "execution_count": 60,
   "metadata": {},
   "outputs": [
    {
     "name": "stdout",
     "output_type": "stream",
     "text": [
      "keys: [2, 8, 17, 18, 24, 25, 39, 57, 59, 60, 64, 65, 69, 71, 86, 88, 91]\n",
      "\n",
      "     1   2   3   4   5   6   7   8   9   10   \n",
      "0  | C | д | B | D | V | w | l | о | q | D | \n",
      "1  | t | M | Q | x | z | T | г | о | j | s | \n",
      "2  | b | F | B | в | о | P | R | e | d | g | \n",
      "3  | X | m | L | b | S | Y | J | h | р | z | \n",
      "4  | n | m | g | C | H | i | j | g | M | q | \n",
      "5  | B | y | T | T | Q | Y |   | G | п | о | \n",
      "6  | T | l | p | д | п | c | H | n | и | u | \n",
      "7  | с | a | r | C | b | H | P | Z | s | w | \n",
      "8  | O | r | d | r | Q | а | f | л | m | q | \n",
      "9  | и | Q | g | i | F | k | Q | y | l | z | \n",
      "\n"
     ]
    }
   ],
   "source": [
    "from random import choice, randint\n",
    "from collections import Counter\n",
    " \n",
    "text = input(\"Write the massage: \")\n",
    "symbols = [chr(x) for x in range(65,91)] # A - Z\n",
    "symbols += [chr(x) for x in range(97,123)] # a - z\n",
    "# A - z\n",
    "while True:\n",
    "    keys = [randint(1,100) for x in range(len(text))]\n",
    "    k = Counter(keys)\n",
    "    switch = 0; n = 0\n",
    "    for l in k:\n",
    "        if k[keys[n]] > 1:\n",
    "            switch = 1\n",
    "            break\n",
    "        n += 1\n",
    "    if switch == 0:\n",
    "        break\n",
    "keys.sort()\n",
    "print(\"keys:\",keys)\n",
    " \n",
    "lattice = [choice(symbols) for x in range(0,101)]\n",
    " \n",
    "n = 0\n",
    "for i in range(len(lattice)):\n",
    "    if n < len(text):\n",
    "        if i == keys[n]:\n",
    "            lattice[i] = text[n]\n",
    "            n += 1\n",
    "print()\n",
    " \n",
    "for j in range(0,11):\n",
    "    if j == 0:\n",
    "        print(\" \", end = \"    \")\n",
    "    else:\n",
    "        print(j, end = \"   \")\n",
    "print()\n",
    " \n",
    "n = 0\n",
    "for j in range(1,len(lattice)):\n",
    "    if j == 1:\n",
    "        print(n, end = \"  | \"); n += 1\n",
    "        print(lattice[j], end = \" | \")\n",
    "    elif j % 10 != 0:\n",
    "        print(lattice[j], end = \" | \")\n",
    "    else:\n",
    "        print(lattice[j], end = \" | \")\n",
    "        print()\n",
    "        if n < 10:\n",
    "            print(n, end = \"  | \"); n += 1\n",
    "print()"
   ]
  },
  {
   "cell_type": "markdown",
   "metadata": {},
   "source": [
    "<h1>Шифр Веженера </h1>"
   ]
  },
  {
   "cell_type": "code",
   "execution_count": 65,
   "metadata": {},
   "outputs": [
    {
     "data": {
      "text/plain": [
       "'ADDIRALKYBMRLOWNAUFELEHBCZHX'"
      ]
     },
     "execution_count": 65,
     "metadata": {},
     "output_type": "execute_result"
    }
   ],
   "source": [
    "def encrypt_vegener(plaintext, key):\n",
    "    key_length = len(key)\n",
    "    key_as_int = [ord(i) for i in key]\n",
    "    plaintext_int = [ord(i) for i in plaintext]\n",
    "    result = ''\n",
    "    for i in range(len(plaintext_int)):\n",
    "        value = (plaintext_int[i] + key_as_int[i % key_length]) % 26\n",
    "        result += chr(value + 65)\n",
    "    return result\n",
    "\n",
    "encrypt_vegener(\"cryptography crucial science\", \"math\")\n"
   ]
  }
 ],
 "metadata": {
  "kernelspec": {
   "display_name": "Python 3",
   "language": "python",
   "name": "python3"
  },
  "language_info": {
   "codemirror_mode": {
    "name": "ipython",
    "version": 3
   },
   "file_extension": ".py",
   "mimetype": "text/x-python",
   "name": "python",
   "nbconvert_exporter": "python",
   "pygments_lexer": "ipython3",
   "version": "3.10.6"
  }
 },
 "nbformat": 4,
 "nbformat_minor": 2
}
