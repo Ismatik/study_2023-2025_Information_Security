{
 "cells": [
  {
   "cell_type": "markdown",
   "metadata": {},
   "source": [
    "<h1>Маршрутное шифрование</h1>\n"
   ]
  },
  {
   "cell_type": "code",
   "execution_count": 44,
   "metadata": {},
   "outputs": [
    {
     "name": "stdout",
     "output_type": "stream",
     "text": [
      "['нельзя', 'недооц', 'ениват', 'ьпроти', 'вникам']\n"
     ]
    }
   ],
   "source": [
    "import string\n",
    "import random\n",
    "\n",
    "\n",
    "def path_cipher(text:str, key_word:str, n: int , m:int):\n",
    "    \"\"\"Cipher the text according to path cipher method\"\"\"\n",
    "    alphabet = \"абвгдеёжзийклмнопстуфхцчшщъыьэюя\"\n",
    "    text = text.replace(\" \" , \"\")\n",
    "    matrix = []\n",
    "    counter = 0\n",
    "    result = \"\"\n",
    "    for i in range(len(text) // (m)):\n",
    "        matrix.append(text[i*n:i*n+n])\n",
    "\n",
    "        \n",
    "    while len(matrix[-1]) != n:\n",
    "        # matrix[-1] += random.choice(string.ascii_lowercase)\n",
    "        matrix[-1] += random.choice(alphabet)\n",
    "    \n",
    "    # Adding keyword to the matrix\n",
    "    # matrix.append(key_word)\n",
    "    for char in alphabet:\n",
    "        if char in key_word:\n",
    "            position = key_word.index(char)\n",
    "            for j in matrix:\n",
    "                result += j[position]\n",
    "\n",
    "\n",
    "\n",
    "\n",
    "\n",
    "print(path_cipher(text = \"нельзя недооценивать противника\" , key_word= \"пароль\", n = 6 , m = 5))"
   ]
  },
  {
   "cell_type": "code",
   "execution_count": 35,
   "metadata": {},
   "outputs": [
    {
     "name": "stdout",
     "output_type": "stream",
     "text": [
      "sad\n"
     ]
    }
   ],
   "source": [
    "text = \"abasdbasdbadsad\"\n",
    "result = \"\"\n",
    "result += text[12:18]\n",
    "print(result)"
   ]
  }
 ],
 "metadata": {
  "kernelspec": {
   "display_name": "Python 3",
   "language": "python",
   "name": "python3"
  },
  "language_info": {
   "codemirror_mode": {
    "name": "ipython",
    "version": 3
   },
   "file_extension": ".py",
   "mimetype": "text/x-python",
   "name": "python",
   "nbconvert_exporter": "python",
   "pygments_lexer": "ipython3",
   "version": "3.10.6"
  }
 },
 "nbformat": 4,
 "nbformat_minor": 2
}
