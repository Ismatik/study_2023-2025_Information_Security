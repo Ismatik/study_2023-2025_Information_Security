{
 "cells": [
  {
   "cell_type": "markdown",
   "metadata": {},
   "source": [
    "<h1> Euclid Algorithm </h1>"
   ]
  },
  {
   "cell_type": "code",
   "execution_count": 28,
   "metadata": {},
   "outputs": [
    {
     "data": {
      "text/plain": [
       "1"
      ]
     },
     "execution_count": 28,
     "metadata": {},
     "output_type": "execute_result"
    }
   ],
   "source": [
    "import math\n",
    "# print(math.gcd(123,33))\n",
    "\n",
    "def euclid(a, b):\n",
    "    \"\"\"Euclid algorithm 0 < b <= a\"\"\"\n",
    "    while a != b:\n",
    "        if a > b:\n",
    "            a = a - b\n",
    "        else:\n",
    "            b = b - a\n",
    "    return a\n",
    "\n",
    "\n",
    "\n",
    "\n",
    "euclid(123,1)"
   ]
  },
  {
   "cell_type": "markdown",
   "metadata": {},
   "source": [
    "<h1> Binary Euclid Algorithm </h1>"
   ]
  },
  {
   "cell_type": "code",
   "execution_count": 31,
   "metadata": {},
   "outputs": [
    {
     "data": {
      "text/plain": [
       "4"
      ]
     },
     "execution_count": 31,
     "metadata": {},
     "output_type": "execute_result"
    }
   ],
   "source": [
    "def binary_Euclid(a,b):\n",
    "    \"\"\"Binary code for Euclid algorithm\"\"\"\n",
    "    g = 1\n",
    "    while a % 2 == 0 and b % 2 == 0:\n",
    "        a = a // 2\n",
    "        b = b // 2\n",
    "        g = g * 2\n",
    "    u = a \n",
    "    v = b\n",
    "    while u != 0:\n",
    "        if u % 2 == 0:\n",
    "            u = u // 2\n",
    "        elif v % 2 == 0:\n",
    "            v = v // 2\n",
    "        if u >= v:\n",
    "            u = u - v\n",
    "        else:\n",
    "            v = v - u\n",
    "    d = g * v\n",
    "    return d\n",
    "\n",
    "binary_Euclid(8,4)"
   ]
  },
  {
   "cell_type": "markdown",
   "metadata": {},
   "source": [
    "<h1> Extended Euclid Algorithm </h1>"
   ]
  },
  {
   "cell_type": "code",
   "execution_count": null,
   "metadata": {},
   "outputs": [],
   "source": []
  }
 ],
 "metadata": {
  "kernelspec": {
   "display_name": "Python 3",
   "language": "python",
   "name": "python3"
  },
  "language_info": {
   "codemirror_mode": {
    "name": "ipython",
    "version": 3
   },
   "file_extension": ".py",
   "mimetype": "text/x-python",
   "name": "python",
   "nbconvert_exporter": "python",
   "pygments_lexer": "ipython3",
   "version": "3.10.6"
  }
 },
 "nbformat": 4,
 "nbformat_minor": 2
}
