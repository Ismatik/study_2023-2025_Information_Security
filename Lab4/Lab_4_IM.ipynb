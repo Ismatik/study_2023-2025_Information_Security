{
 "cells": [
  {
   "cell_type": "markdown",
   "metadata": {},
   "source": [
    "<h1> Euclid Algorithm </h1>"
   ]
  },
  {
   "cell_type": "code",
   "execution_count": 28,
   "metadata": {},
   "outputs": [
    {
     "data": {
      "text/plain": [
       "1"
      ]
     },
     "execution_count": 28,
     "metadata": {},
     "output_type": "execute_result"
    }
   ],
   "source": [
    "import math\n",
    "# print(math.gcd(123,33))\n",
    "\n",
    "def euclid(a, b):\n",
    "    \"\"\"Euclid algorithm 0 < b <= a\"\"\"\n",
    "    while a != b:\n",
    "        if a > b:\n",
    "            a = a - b\n",
    "        else:\n",
    "            b = b - a\n",
    "    return a\n",
    "\n",
    "\n",
    "\n",
    "\n",
    "euclid(123,1)"
   ]
  },
  {
   "cell_type": "markdown",
   "metadata": {},
   "source": [
    "<h1> Binary Euclid Algorithm </h1>"
   ]
  },
  {
   "cell_type": "code",
   "execution_count": 31,
   "metadata": {},
   "outputs": [
    {
     "data": {
      "text/plain": [
       "4"
      ]
     },
     "execution_count": 31,
     "metadata": {},
     "output_type": "execute_result"
    }
   ],
   "source": [
    "def binary_Euclid(a,b):\n",
    "    \"\"\"Binary code for Euclid algorithm\"\"\"\n",
    "    g = 1\n",
    "    while a % 2 == 0 and b % 2 == 0:\n",
    "        a = a // 2\n",
    "        b = b // 2\n",
    "        g = g * 2\n",
    "    u = a \n",
    "    v = b\n",
    "    while u != 0:\n",
    "        if u % 2 == 0:\n",
    "            u = u // 2\n",
    "        elif v % 2 == 0:\n",
    "            v = v // 2\n",
    "        if u >= v:\n",
    "            u = u - v\n",
    "        else:\n",
    "            v = v - u\n",
    "    d = g * v\n",
    "    return d\n",
    "\n",
    "binary_Euclid(8,4)"
   ]
  },
  {
   "cell_type": "markdown",
   "metadata": {},
   "source": [
    "<h1> Extended Euclid Algorithm </h1>"
   ]
  },
  {
   "cell_type": "code",
   "execution_count": 47,
   "metadata": {},
   "outputs": [
    {
     "data": {
      "text/plain": [
       "'1 * 6 + -1 * 5 = 1'"
      ]
     },
     "execution_count": 47,
     "metadata": {},
     "output_type": "execute_result"
    }
   ],
   "source": [
    "def extended_euclid(a, b):\n",
    "    '''An implementation of extended Euclidean algorithm.\n",
    "    Returns integer x, y and gcd(a, b) for Bezout equation:\n",
    "        ax + by = gcd(a, b).\n",
    "    '''\n",
    "    x, xx, y, yy = 1, 0, 0, 1\n",
    "    num = a\n",
    "    num2 = b\n",
    "    while b:\n",
    "        q = a // b\n",
    "        a, b = b, a % b\n",
    "        x, xx = xx, x - xx*q\n",
    "        y, yy = yy, y - yy*q\n",
    "    return f\"{x} * {num} + {y} * {num2} = {a}\"\n",
    "    return (x, y, a)\n",
    "\n",
    "extended_euclid(6,5)\n"
   ]
  },
  {
   "cell_type": "markdown",
   "metadata": {},
   "source": [
    "<h1> Extended Binary Euclid Algorithm </h1>"
   ]
  },
  {
   "cell_type": "code",
   "execution_count": 50,
   "metadata": {},
   "outputs": [
    {
     "data": {
      "text/plain": [
       "(1, -3, 0)"
      ]
     },
     "execution_count": 50,
     "metadata": {},
     "output_type": "execute_result"
    }
   ],
   "source": [
    "def extended_binary_euclid(a ,b):\n",
    "    g = 1\n",
    "    while a % 2 == 0 and b % 2 == 0:\n",
    "        a //= 2\n",
    "        b //= 2\n",
    "        g = 2*g\n",
    "    u = a\n",
    "    v = b\n",
    "    A = 1\n",
    "    B = 0\n",
    "    C = 0\n",
    "    D = 1\n",
    "    while u != 0:\n",
    "        if u % 2 == 0:\n",
    "            u = u // 2\n",
    "            if A % 2 == 0 and B % 2 == 0:\n",
    "                A //= 2\n",
    "                B //= 2\n",
    "            else:\n",
    "                A = (A + b) //2\n",
    "                B = (B - a) //2\n",
    "        if v % 2 == 0:\n",
    "            v //= 2\n",
    "            if C  % 2 == 0 and D % 2 == 0:\n",
    "                C //= 2\n",
    "                D //= 2\n",
    "            else:\n",
    "                C = (C + B) // 2\n",
    "                D = (D - A) // 2\n",
    "        if u >= v:\n",
    "            u -= v\n",
    "            A -= C\n",
    "            B -= D\n",
    "        else:\n",
    "            v -= u\n",
    "            C -= A\n",
    "            D -= B\n",
    "    d = g * v\n",
    "    x = C\n",
    "    y = D\n",
    "    return (d,x,y)\n",
    "\n",
    "extended_binary_euclid(6,5)"
   ]
  }
 ],
 "metadata": {
  "kernelspec": {
   "display_name": "Python 3",
   "language": "python",
   "name": "python3"
  },
  "language_info": {
   "codemirror_mode": {
    "name": "ipython",
    "version": 3
   },
   "file_extension": ".py",
   "mimetype": "text/x-python",
   "name": "python",
   "nbconvert_exporter": "python",
   "pygments_lexer": "ipython3",
   "version": "3.10.6"
  }
 },
 "nbformat": 4,
 "nbformat_minor": 2
}
