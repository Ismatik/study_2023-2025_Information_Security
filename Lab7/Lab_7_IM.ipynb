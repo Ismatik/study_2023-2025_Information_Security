{
 "cells": [
  {
   "cell_type": "code",
   "execution_count": 4,
   "metadata": {},
   "outputs": [
    {
     "name": "stdout",
     "output_type": "stream",
     "text": [
      "{1: 0, 10: 1, 100: 2, 37: 3, 49: 4, 62: 5, 85: 6, 101: 7, 47: 8, 42: 9, 99: 10}\n",
      "20\n"
     ]
    }
   ],
   "source": [
    "import math\n",
    "import random\n",
    "\n",
    "def pollard_rho(a, h, p):\n",
    "    \"\"\"Реализация метода Полларда для решения дискретного логарифма\"\"\"\n",
    "    \n",
    "    x = y = 1\n",
    "    k = int(math.sqrt(p)) + 1\n",
    "    g = random.randint(0, p - 1)\n",
    "    b = random.randint(0, p - 1)\n",
    "    for i in range(k):\n",
    "        x = (a * x) % p\n",
    "        y = (h * y) % p\n",
    "        if x == y:\n",
    "            break\n",
    "        f_x = pow(a, g * x + b, p)\n",
    "        f_y = pow(h, g * y + b, p)\n",
    "        diff = (f_x - f_y) % p\n",
    "        d = math.gcd(diff, p)\n",
    "        if d != 1 and d != p:\n",
    "            return d\n",
    "    return None\n",
    "\n",
    "def baby_step_giant_step(g, h, p):\n",
    "    \"\"\"Реализация алгоритма шагов для решения дискретного логарифма\"\"\"\n",
    "    n = int(math.sqrt(p)) + 1\n",
    "    baby_steps = {}\n",
    "    for j in range(n):\n",
    "        baby_steps[pow(g, j, p)] = j\n",
    "    # print(baby_steps)\n",
    "    inv_g_n = pow(g, p - n - 1, p)\n",
    "    giant_step = h\n",
    "    for i in range(n):\n",
    "        if giant_step in baby_steps:\n",
    "            return i * n + baby_steps[giant_step]\n",
    "        giant_step = (giant_step * inv_g_n) % p\n",
    "    return None\n",
    "\n",
    "def discrete_logarithm(g, h, p):\n",
    "    \"\"\"Функция для решения дискретного логарифма\"\"\"\n",
    "    divisor = pollard_rho(g, h, p)\n",
    "    if divisor is not None:\n",
    "        x1 = discrete_logarithm(g, h % divisor, divisor)\n",
    "        x2 = discrete_logarithm(g, h // divisor, divisor)\n",
    "        return (x1 + x2 * pow(g, x1, divisor)) % p\n",
    "    else:\n",
    "        return baby_step_giant_step(g, h, p)\n",
    "\n",
    "\n",
    "# 10^x = 64 (mod 107)\n",
    "a = 10\n",
    "b = 64\n",
    "p = 107\n",
    "x = discrete_logarithm(a, b, p)\n",
    "print(x) # Ответ:20, так как 10^20 = 64 (mod 107)"
   ]
  }
 ],
 "metadata": {
  "kernelspec": {
   "display_name": "Python 3",
   "language": "python",
   "name": "python3"
  },
  "language_info": {
   "codemirror_mode": {
    "name": "ipython",
    "version": 3
   },
   "file_extension": ".py",
   "mimetype": "text/x-python",
   "name": "python",
   "nbconvert_exporter": "python",
   "pygments_lexer": "ipython3",
   "version": "3.10.6"
  }
 },
 "nbformat": 4,
 "nbformat_minor": 2
}
