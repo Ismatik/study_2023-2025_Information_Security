{
 "cells": [
  {
   "cell_type": "code",
   "execution_count": 23,
   "metadata": {},
   "outputs": [
    {
     "name": "stdout",
     "output_type": "stream",
     "text": [
      "first 16 + second 4 = 20\n",
      "first 17 + second 1 = 18\n",
      "first 9 + second 14 = 23\n",
      "first 11 + second 14 = 25\n",
      "first 0 + second 1 = 1\n",
      "first 8 + second 4 = 12\n"
     ]
    },
    {
     "data": {
      "text/plain": [
       "'УСЦШБЛ'"
      ]
     },
     "execution_count": 23,
     "metadata": {},
     "output_type": "execute_result"
    }
   ],
   "source": [
    "import string \n",
    "\n",
    "# print(len(string.ascii_letters))\n",
    "alphabet = \"абвгдеёжзийклмнопрстуфхцчшщъыьэюя\".upper()\n",
    "\n",
    "def encrypt_gamma(text, key_text):\n",
    "    global alphabet\n",
    "    # print(alphabet)\n",
    "    result = \"\"\n",
    "    for i in range(len(text)):\n",
    "        key_position = alphabet.index(key_text[i % len(key_text)]) + 1\n",
    "        result_position = alphabet.index(text[i]) + key_position\n",
    "        print(f\"first {alphabet.index(text[i])} + second {key_position} = {result_position}\")\n",
    "        result += alphabet[result_position % 33]        \n",
    "\n",
    "    return result\n",
    "\n",
    "encrypt_gamma(\"ПРИКАЗ\", \"ГАММА\")"
   ]
  }
 ],
 "metadata": {
  "kernelspec": {
   "display_name": "Python 3",
   "language": "python",
   "name": "python3"
  },
  "language_info": {
   "codemirror_mode": {
    "name": "ipython",
    "version": 3
   },
   "file_extension": ".py",
   "mimetype": "text/x-python",
   "name": "python",
   "nbconvert_exporter": "python",
   "pygments_lexer": "ipython3",
   "version": "3.10.6"
  }
 },
 "nbformat": 4,
 "nbformat_minor": 2
}
